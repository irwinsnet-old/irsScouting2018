{
 "cells": [
  {
   "cell_type": "markdown",
   "metadata": {},
   "source": [
    "# ISD03 - Installing Pycharm\n",
    "\n",
    "## 1. Verify Python Installation\n",
    "\n",
    "Before we install an IDE, let's verify that Python works.\n",
    "\n",
    "1. Type `python -V` at the command prompt.\n",
    "\n",
    "2. You will probably see a `python` is not recognized error. To fix this, add *C:\\Users\\{your_account_name}\\Anaconda3* to the `Path` variable per the process specified in ISD02.\n",
    "\n",
    "3. Try typing `python -V` again. You should see this:\n",
    "    ![Python Command](images\\ISD03\\cmd_python.png)\n",
    "    \n",
    "## 2. Download and Install Pycharm IDE\n",
    "\n",
    "Next we'll download and install the Pycharm integrated development environment (IDE) -- an IDE is sort of a sophistcated word processor for computer programming.\n",
    "\n",
    "1. Go to https://www.jetbrains.com/pycharm/download and download the *Community Edition* of Pycharm for your operating system.\n",
    "\n",
    "2. Run the installer program and accept all default options.\n",
    "\n",
    "**Further Reading:**\n",
    "Pycharm Documentation: https://www.jetbrains.com/help/pycharm/meet-pycharm.html"
   ]
  },
  {
   "cell_type": "markdown",
   "metadata": {},
   "source": [
    "## Version Info\n",
    "* **Last Revised:** 20 Dec 2017\n",
    "* **Revised by:** Stacy I."
   ]
  },
  {
   "cell_type": "code",
   "execution_count": null,
   "metadata": {},
   "outputs": [],
   "source": []
  }
 ],
 "metadata": {
  "kernelspec": {
   "display_name": "Python 3",
   "language": "python",
   "name": "python3"
  },
  "language_info": {
   "codemirror_mode": {
    "name": "ipython",
    "version": 3
   },
   "file_extension": ".py",
   "mimetype": "text/x-python",
   "name": "python",
   "nbconvert_exporter": "python",
   "pygments_lexer": "ipython3",
   "version": "3.6.3"
  }
 },
 "nbformat": 4,
 "nbformat_minor": 2
}
