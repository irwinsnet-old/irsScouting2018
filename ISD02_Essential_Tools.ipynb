{
 "cells": [
  {
   "cell_type": "markdown",
   "metadata": {},
   "source": [
    "# ISD02: Essential Tools - Environment Variables and the Command Line\n"
   ]
  },
  {
   "cell_type": "markdown",
   "metadata": {},
   "source": [
    "## 1. Environment Variables\n",
    "\n",
    "In ISD01 we were able to rund the `conda` command by navigating within the command prompt to the directory that contains the *conda.exe* file. But this practice is cumbersome. Instead, we can use *environment variables* to tell Windows where to look for programs when it doesn't find them in the current directory.\n",
    "\n",
    "Environment variables are operating system settings that are used for many different purposes.\n",
    "\n",
    "1. To see the current environment variables, type `env` in the taskbar search box and select the option *Edit the **Environment** variables for your account.*\n",
    "    1. This will open a dialog box for editing environment variables. The upper box contains environment variables that apply only to the current logged-in account, and the bottom box lists environment variables that apply to all accounts on the system.\n",
    "\n",
    "1. Don't touch the bottom box with the system variables. Select the `Path` variable in the upper box with the account variables, then click *Edit*.\n",
    "    1. This displays a dialog box with a list of folder locations. The `Path` variable contains the list of folders in which the Windows command window will look for programs when it doesn't find them in the current directory. \n",
    "\n",
    "1. In the *Edit Environment Variables*, click *New* and then click *Browse*. Navigate to the *C:\\Users\\{account_user_name}\\Anaconda3\\Scripts* directory and click *OK*. Keep clicking *OK* until you've closed all of the dialog boxes that you just opened.\n",
    "\n",
    "![Editing Environment Variables](images/ISD02/env_var.png)\n",
    "\n",
    "1. Let's verify the `Path` variable was set correctly. Open a new command window and do not change the directory. Type `conda -V` and hit enter. If you see the Anaconda version number, you edited the path variable correctly. If not, go back and verify that you set the `Path` variable correctly.\n",
    "\n",
    "1. You can check environment variables at the command line. Enter the command `Set Path` to see the value of the `Path` variable.\n",
    "\n",
    "**Notes:**\n",
    "1. Environment variables are case-insensitive. `Path`, `PATH`, `path`, and `pAtH` are all the same variable.\n",
    "\n",
    "**Further Reading:**\n",
    "1. Type `help set` at the command prompt."
   ]
  },
  {
   "cell_type": "markdown",
   "metadata": {},
   "source": [
    "## 2. The Command Line\n",
    "\n",
    "### Introduction\n",
    "\n",
    "Most Windows users never use the command line. But there are many useful command line tools for computer programming. Command line tools have several benefits:\n",
    "* Developing graphical user interfaces (GUI) is time consuming. Command line tools require less code and can be developed more quickly.\n",
    "* It can be faster to get things done in a command line tool -- one can complete a task in a command line took in the time it takes just to start a GUI tool.\n",
    "* No GUI means less code, which means fewer bugs and security holes.\n",
    "\n",
    "The IRS uses the command line for tasks such as version control (i.e., git), managing the database server, checking environment variables, installing Python packages, and running checks on their python code.\n",
    "\n",
    "### Opening a Command Window\n",
    "\n",
    "1. In addition to typing `cmd` or `command` in the taskbar search box, one can find the *Command Prompt* program in the *Windows System* folder within the *All Programs* portion of the start menu.\n",
    "\n",
    "    ![All Programs](images/ISD02/all_programs.png)\n",
    "\n",
    "2. To make it easier to open a command window, create a shortcut on the desktop by dragging the *Command Prompt* icon from the start menu to your desktop.\n",
    "\n",
    "### Customizing a Command Window\n",
    "\n",
    "1. Right click on the *Command Prompt* icon and select *Properties*.\n",
    "\n",
    "    1. You can change the starting location (i.e., the directory that is displayed at the prompt) by pasting a folder path in the *Start in:* box on the *Shortcut* tab of the *Command Prompt Properties* dialog box.\n",
    "    \n",
    "    2. You can many other properties as well, including the background and text colors, the size of the window, and the font. You can even make the command window semi-transparent.\n",
    "    \n",
    "        ![Command Prompt Properties](images/ISD02/cmd_properties.png)\n",
    "\n",
    "4. I have shortcuts to several customized command windows on my desktop (I've renamed them so I can tell them apart). Here's one that starts in my IRS scouting project folder:\n",
    "\n",
    "    ![Customized Command Window](images/ISD02/cmd_customized.png)\n",
    "\n",
    "    * The color RGB values are (51, 0, 102) for the background and (255, 0, 255) for the text, in case you're interested.\n",
    "\n",
    "#### Frequently Used Commands\n",
    "\n",
    "There are many commands that are always available at the command prompt, regardless of the current directory location or `Path` variable settings. Here are a few of the frequently used commands (type `help` to see the entire list).\n",
    "\n",
    "* **help (Help)**\n",
    "  * `help` lists the built-in commands that are available at the command prompt.\n",
    "  * `help cd` displays detailed documentation for the *change directory* command.\n",
    "* **dir (Directory)**\n",
    "  * `dir` lists all subdirectories and files within the current directory.\n",
    "  * `dir *.txt` lists all of the files ending in \".txt\" within the current directory.\n",
    "* **cd (Change directory)**\n",
    "  * `cd Pictures` changes the directory location to the *pictures* subdirectory within the current command prompt location.\n",
    "  * `cd ..` moves to the parent directory of the current command prompt location.\n",
    "  * `cd C:/Program Files` moves to the *C:/Program Files* folder, regardless of the current directory location.\n",
    "* **md (Make Directory)**\n",
    "  * `md new_folder` creates a subdirectory named *new_folder* within the current directory.\n",
    "* **rd (Remove Directory)**\n",
    "  * `rd /S subfolder` deletes the subdirectory *subfolder*, includuing erasing all files and subdirectories within *subfolder*.\n",
    "* **del (Delete File)**\n",
    "  * `del old_file.py` deletes *old_file.py* in the current folder.\n",
    "  * `del *.txt*` deletes all files ending in *.txt* in the current folder.\n",
    "* **copy (Copy File)**\n",
    "  * `copy s*.* C:\\Users\\Stacy\\Documents` copies all files that start with 'S' to the documents folder.\n",
    "* **move (Move File)**\n",
    "  * `move *s.docx C:\\Users\\Stacy\\Documents` moves all Microsoft Word files that end in 'S' to the documents folder.\n",
    "* **cls (Clear Screen)**\n",
    "  * `cls` clears all text from the command window.\n",
    "* **exit (Exit)**\n",
    "  * `exit` exits the command window.\n",
    "\n",
    "**Further Reading:**\n",
    "1. Type `help` at the command prompt to get a list of available commands. Type `help {command_name}` for a detailed explanation of each command.\n",
    "2. A bit dated but still good: https://technet.microsoft.com/en-us/library/bb490890.aspx"
   ]
  },
  {
   "cell_type": "markdown",
   "metadata": {},
   "source": [
    "## Version Info\n",
    "* **Last Revised:** 19 Dec 2017\n",
    "* **Revised by:** Stacy I."
   ]
  }
 ],
 "metadata": {
  "kernelspec": {
   "display_name": "Python 3",
   "language": "python",
   "name": "python3"
  },
  "language_info": {
   "codemirror_mode": {
    "name": "ipython",
    "version": 3
   },
   "file_extension": ".py",
   "mimetype": "text/x-python",
   "name": "python",
   "nbconvert_exporter": "python",
   "pygments_lexer": "ipython3",
   "version": "3.6.3"
  }
 },
 "nbformat": 4,
 "nbformat_minor": 2
}
