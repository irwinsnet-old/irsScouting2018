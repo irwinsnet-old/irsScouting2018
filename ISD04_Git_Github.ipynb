{
 "cells": [
  {
   "cell_type": "markdown",
   "metadata": {},
   "source": [
    "# ISD04 - Version Control System: Git and Github\n",
    "\n",
    "## 1. Git\n",
    "\n",
    "### 1.A Overview\n",
    "\n",
    "Software developers use version control systems to save versions of their software projects and share and synchronize their code with others. The IRS uses one of the most popular version controls systems, *Git*, which was originally created by Linus Torvalds, the creator of Linux.\n",
    "\n",
    "Github is an online repository for computer code that is designed to work closely with Git. All of the IRS's computer code is stored on Git. Here are some typical tasks that use Git or Github:\n",
    "* A scouting system programmer downloads the scouting system code from Github.\n",
    "* A programmer uses git to create a separate version of the scouting system so they can make changes to the system without affecting other programmers' work.\n",
    "* A programmer uploads their changes to Github so they can be reviewed by other members of the team.\n",
    "* A lead programmer reviews changes submitted by several other programmers and uses Git to merge the changes into a single version and share that version with the rest of the team.\n",
    "\n",
    "### 1.B Download and Installation\n",
    "\n",
    "1. Go to https://git-scm.com/downloads and click the download link for your operating system near the top of the page. (Do not download the GUI client -- we will use the command line version of git.)\n",
    "\n",
    "![Git Download Page](images\\ISD04\\git_download.png)\n",
    "\n"
   ]
  },
  {
   "cell_type": "code",
   "execution_count": null,
   "metadata": {},
   "outputs": [],
   "source": []
  }
 ],
 "metadata": {
  "kernelspec": {
   "display_name": "Python 3",
   "language": "python",
   "name": "python3"
  },
  "language_info": {
   "codemirror_mode": {
    "name": "ipython",
    "version": 3
   },
   "file_extension": ".py",
   "mimetype": "text/x-python",
   "name": "python",
   "nbconvert_exporter": "python",
   "pygments_lexer": "ipython3",
   "version": "3.6.3"
  }
 },
 "nbformat": 4,
 "nbformat_minor": 2
}
