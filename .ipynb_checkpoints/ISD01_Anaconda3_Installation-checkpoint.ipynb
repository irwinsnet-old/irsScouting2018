{
 "cells": [
  {
   "cell_type": "markdown",
   "metadata": {},
   "source": [
    "# Installing Anaconda Python\n",
    "\n",
    "The Anaconda Python stack is a customized version of Python that is relatively easy to use. In addition to Python, Anaconda provides a plethora of commonly used Python software packages.\n",
    "\n",
    "1. Download and the Anaconda Python 3 stack from https://www.anaconda.com/download/. Make sure you download the 64-bit Python 3 version (do not download the Python 2 version!).\n",
    "2. Run the Anaconda installer and select all default options during the installation process, including *Install for this user only.*\n",
    "3. Now verify that you can run anaconda commands at the command prompt. Open a command prompt window by typing `cmd` in the taskbar search box selecting the *Command Prompt* item. Next type `conda -V` at the prompt (make sure you type a capital 'V') and hit enter:\n",
    "\n",
    "    If you followed the instructions exactly you will see this error message:\n",
    "\n",
    "    ![Conda not recoginized](images/ISD01/conda_error.png)\n",
    "\n",
    "    By typing `conda`, we are telling Windows that we want to run the *conda.exe* program, but Windows can't find the program because by default, Windows only looks in the current directory. In the above example, the current directory is *C:\\Users\\Stacy* (*Stacy* is the user account name), but the *conda.exe* file is located in *C:\\{user_account_name}\\Anaconda3\\Scripts*. \n",
    "\n",
    "    One option is to change the current directory to *C:\\{user_account_name}\\Anaconda3\\Scripts* every time we want to run the `conda` command. Enter the following two commands at the command prompt (replace {user_account_name} with your account username:\n",
    "    ```\n",
    "    cd C:\\{user_account_name}\\Anaconda3\\Scripts\n",
    "    conda -V\n",
    "    ```\n",
    "\n",
    "    The results should look like this:\n",
    "    \n",
    "    ![Change to Anaconda Directory](images/ISD01/conda_cd.png)\n",
    "    \n",
    "4. Stay in the *Anaconda3\\Scripts* folder. Type the following commands to install additional Python packages that the scouting system needs (Enter `Y` when prompted:\n",
    "```\n",
    "conda install psycopg2\n",
    "conda install cherrypy\n",
    "```\n",
    "\n",
    "5. Finally, you can see all of the packages included with Anaconda by entering `conda list`. By default, Anaconda installs over 200 of the most commonly used packages, and an additional 200 or so packages can be installed with the `conda install` command. You can see all of the available packages at https://docs.anaconda.com/anaconda/packages/py3.6_win-64.\n",
    "\n",
    "Other useful conda commands include `conda update` for updating packages and `conda -h` for displaying all available conda commends. To get detailed help on an individual command, type `conda {command_name} -h` (e.g., `conda update -h`).\n",
    "\n",
    "**Further Reading:** https://docs.anaconda.com/anaconda/"
   ]
  },
  {
   "cell_type": "markdown",
   "metadata": {},
   "source": [
    "## Version Info\n",
    "* **Last Revised:** 18 Dec 2017\n",
    "* **Revised by:** Stacy I."
   ]
  }
 ],
 "metadata": {
  "kernelspec": {
   "display_name": "Python 3",
   "language": "python",
   "name": "python3"
  },
  "language_info": {
   "codemirror_mode": {
    "name": "ipython",
    "version": 3
   },
   "file_extension": ".py",
   "mimetype": "text/x-python",
   "name": "python",
   "nbconvert_exporter": "python",
   "pygments_lexer": "ipython3",
   "version": "3.6.3"
  }
 },
 "nbformat": 4,
 "nbformat_minor": 2
}
