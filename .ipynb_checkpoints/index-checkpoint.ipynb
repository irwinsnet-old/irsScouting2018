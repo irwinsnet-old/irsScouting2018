{
 "cells": [
  {
   "cell_type": "markdown",
   "metadata": {},
   "source": [
    "# IRS Scouting System Documentation\n",
    "\n",
    "## Overview\n",
    "\n",
    "The Issaquah Robotics Society (IRS, FRC 1318) maintains a custom-built scouting system consisting of android tablets that run a scouting app for data entry and a database server that runs on a laptop. This website contains the scouting system documentation. \n",
    "\n",
    "### Scouting System Software Components:\n",
    "\n",
    "The IRS's scouting system is built from open-source or otherwise freely available components. All of these components are widely used in business and academia; students who work with the scouting system develop skills that will be of use later in their careers.\n",
    "\n",
    "* Custom android application, written in Java\n",
    "* Custom server and data analysis application, written in Python\n",
    "* Postgresql, an open source database server\n",
    "* Anaconda Python 3 distribution, which provides the following packages:\n",
    "    * psycopg2 and sqlalchemy, Python packages for connecting to Postgresql databases\n",
    "    * pandas, a Python package for data manipulation and analysis\n",
    "    * cherrypy, a Python package that includes an HTTP server\n",
    "* Java Software Development Kit\n",
    "\n",
    "### Development Tools\n",
    "\n",
    "* Java Software Development Kit\n",
    "* IntelliJ Integrated Development Environment (IDE) for Java\n",
    "* Pycharm IDE for Python\n",
    "* Git and Github for version control\n",
    "* Jupyter Notebooks (this document was written in a Jupyter Notebook)\n",
    "* pgAdmin database administration tool for Postgresql\n",
    "\n",
    "This website assumes the software is running on the Windows 10 operating system. All software is also available for and should work on Mac and Linux, but we have not tested that configuration."
   ]
  },
  {
   "cell_type": "markdown",
   "metadata": {},
   "source": [
    "## Contents\n",
    "\n",
    "The scouting system documentation is split into multiple numbered documents. All documentation is written in Markdown and maintained in Jupyter notebooks.\n",
    "\n",
    "* [ISD01: Anaconda3 Python Stack - Installation and Setup](ISD01_Anaconda3_Installation.html)\n",
    "* [ISD02: Essential Tools - Windows Command Line and Environment Variables](ISD02_Essential_Tools.html)\n",
    "* [ISD03: Pycharm IDE - Installation and Overview](ISD03_Pycharm_IDE_Installation_Overview.html)\n",
    "* [ISD04: Git and Github - Version Control and Project Folder](ISD04_Git_Github.html)\n",
    "* [ISD05: Postgresql - Installation and Setup](ISD05_Posgtresql_Installation_Setup.html)\n",
    "* [ISD06: Python3 and Jupyter Notebooks - Introduction](ISD06_Python3_Introduction.html)\n",
    "* [ISD07: Scouting Server Overview](ISD07_Scouting_Server_Overview.html)\n",
    "* [ISD08: Pandas Package - Manipulating Data in Python](ISD08_Pandas.html)\n",
    "* [ISD09: Pytest and Breakpoints - Testing and Debugging Code](ISD09_Testing_Debugging.html)\n",
    "* [ISD10: Structured Query Language (SQL) - Introduction](ISD10_SQL_Introduction.html)"
   ]
  },
  {
   "cell_type": "markdown",
   "metadata": {},
   "source": [
    "## About This Documentation\n",
    "\n",
    "All documentation is written in Jupyter notebooks using Markdown and maintained in a git repository for version control. ISD stands for *IRS Scouting Document*.\n",
    "\n",
    "**Further Reading**\n",
    "* https://medium.com/ibm-data-science-experience/markdown-for-jupyter-notebooks-cheatsheet-386c05aeebed"
   ]
  },
  {
   "cell_type": "markdown",
   "metadata": {},
   "source": [
    "## Version Info\n",
    "* **Last Revised:** 18 Dec 2017\n",
    "* **Revised by:** Stacy I."
   ]
  }
 ],
 "metadata": {
  "kernelspec": {
   "display_name": "Python 3",
   "language": "python",
   "name": "python3"
  },
  "language_info": {
   "codemirror_mode": {
    "name": "ipython",
    "version": 3
   },
   "file_extension": ".py",
   "mimetype": "text/x-python",
   "name": "python",
   "nbconvert_exporter": "python",
   "pygments_lexer": "ipython3",
   "version": "3.6.3"
  }
 },
 "nbformat": 4,
 "nbformat_minor": 2
}
