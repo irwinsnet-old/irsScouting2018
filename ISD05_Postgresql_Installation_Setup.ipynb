{
 "cells": [
  {
   "cell_type": "markdown",
   "metadata": {},
   "source": [
    "## 5. Installing Postgresql\n",
    "1. Go to https://www.postgresql.org/download/windows/ and download the Windows installer for Postgresql.\n",
    "\n",
    "2. Run the installer. When asked for a password, enter `irs1318`. Otherwise select all default options.\n",
    "\n",
    "3. By default, Postgresql will run in the background all the time. You probably don't want a database server running all of the time on your computer sucking up resources. To change the default behavior:\n",
    "    1. Verify the location of your Postgresql data directory. It’s probably located in `C:\\Program Files\\PostgreSQL\\10\\data`.\n",
    "    2. Refer to section #4 and add an environment variable called PGDATA (it it doesn't already exist). The value of the environment variable will be the location of the Postgresql data directory (`C:\\Program Files\\PostgreSQL\\10\\data`) ![Edit PGDATA Variable](images/ISP01/env_pgdata.png)\n",
    "    3. While you have the environment variable dialogs open, add the location of the Postgresql *bin* folder to the `Path` variable for your account. It's probably at `C:\\Program Files\\PostgreSQL\\10\\bin`.\n",
    "    \n",
    "    4. Type \"Services\" into the task bar search box and select the *Services* desktop app. \n",
    "    \n",
    "    5. Find and double-click on the *Postgresql-x64-10* service. ![Windows Services](images/ISP01/pg_service.png)\n",
    "\n",
    "    6. Change the value in the *Startup type:* dropdown box to *Manual*. Click *OK*. \n",
    "    ![Manual Service](images/ISP01/pg_manual_service.png)\n",
    "    \n",
    "4. Now open a command prompt and see if the database server is running by typing `pg_ctl status`. You should see this:\n",
    "![Database Server Status](images/ISP01/pg_ctl_status.png)\n",
    "\n",
    "5. Type `pg_ctl start` to start the server. Type `pg_ctl stop` to stop it.\n",
    "    \n",
    "    "
   ]
  }
 ],
 "metadata": {
  "kernelspec": {
   "display_name": "Python 3",
   "language": "python",
   "name": "python3"
  },
  "language_info": {
   "codemirror_mode": {
    "name": "ipython",
    "version": 3
   },
   "file_extension": ".py",
   "mimetype": "text/x-python",
   "name": "python",
   "nbconvert_exporter": "python",
   "pygments_lexer": "ipython3",
   "version": "3.6.3"
  }
 },
 "nbformat": 4,
 "nbformat_minor": 2
}
